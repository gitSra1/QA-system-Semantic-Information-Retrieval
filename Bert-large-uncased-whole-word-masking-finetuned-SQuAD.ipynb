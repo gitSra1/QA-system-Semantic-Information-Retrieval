{
 "cells": [
  {
   "cell_type": "code",
   "execution_count": 4,
   "id": "c74334d7",
   "metadata": {},
   "outputs": [
    {
     "name": "stdout",
     "output_type": "stream",
     "text": [
      "What is the real name of Iron Man?\n",
      "________________________________\n",
      "tony stark\n",
      "________________________________\n"
     ]
    }
   ],
   "source": [
    "import wikipedia\n",
    "import re\n",
    "import torch\n",
    "from transformers import AutoTokenizer, AutoModelForQuestionAnswering\n",
    "\n",
    "# Set language of wikipedia\n",
    "wikipedia.set_lang(\"en\")\n",
    "\n",
    "# Load pre-trained BERT model and tokenizer\n",
    "tokenizer = AutoTokenizer.from_pretrained('bert-large-uncased-whole-word-masking-finetuned-squad')\n",
    "model = AutoModelForQuestionAnswering.from_pretrained('bert-large-uncased-whole-word-masking-finetuned-squad')\n",
    "\n",
    "# Define a function to create context from a question using Wikipedia\n",
    "def create_context(question):\n",
    "    # Remove question words from the question\n",
    "    question = re.sub(r'^(what|who|when|where|which|how)\\s', '', question, flags=re.IGNORECASE)\n",
    "\n",
    "    # Get the Wikipedia page for the modified question\n",
    "    try:\n",
    "        page = wikipedia.page(question)\n",
    "    except wikipedia.exceptions.DisambiguationError as e:\n",
    "        # If the question is ambiguous, choose the first suggestion\n",
    "        page = wikipedia.page(e.options[0])\n",
    "\n",
    "    # Get the text content of the page\n",
    "    context = page.content\n",
    "\n",
    "    # Truncate the context to fit the maximum input size of the model\n",
    "    max_length = 1024 - len(tokenizer.encode(question))\n",
    "    context = context[:max_length]\n",
    "\n",
    "    return context\n",
    "\n",
    "# Define a function to perform question answering\n",
    "def answer_question(question, context):\n",
    "    # Tokenize the question and context\n",
    "    input_ids = tokenizer.encode(question, context, add_special_tokens=True)\n",
    "    input_ids = input_ids[:512]  # Truncate to fit within BERT's input length\n",
    "    tokens = tokenizer.convert_ids_to_tokens(input_ids)\n",
    "    \n",
    "    # Create attention mask\n",
    "    attention_mask = [1] * len(input_ids)\n",
    "    \n",
    "    # Pad input IDs and attention mask to BERT's input length\n",
    "    padding_length = 512 - len(input_ids)\n",
    "    input_ids = input_ids + [0] * padding_length\n",
    "    attention_mask = attention_mask + [0] * padding_length\n",
    "    \n",
    "    # Convert input IDs and attention mask to tensors\n",
    "    input_ids = torch.tensor(input_ids).unsqueeze(0)\n",
    "    attention_mask = torch.tensor(attention_mask).unsqueeze(0)\n",
    "    \n",
    "    # Pass input IDs and attention mask to BERT model\n",
    "    inputs = {'input_ids': input_ids,\n",
    "              'attention_mask': attention_mask}\n",
    "    outputs = model(**inputs)\n",
    "    \n",
    "    # Find the start and end token positions for the answer\n",
    "    start_scores = outputs.start_logits\n",
    "    end_scores = outputs.end_logits\n",
    "    start_index = torch.argmax(start_scores)\n",
    "    end_index = torch.argmax(end_scores) + 1\n",
    "    \n",
    "    # Convert the answer tokens back to text\n",
    "    answer_tokens = tokens[start_index:end_index]\n",
    "    answer = tokenizer.convert_tokens_to_string(answer_tokens)\n",
    "    \n",
    "    return answer\n",
    "\n",
    "query=input()\n",
    "context = create_context(query)\n",
    "answer = answer_question(query, context)\n",
    "\n",
    "print(\"________________________________\")\n",
    "print(answer)\n",
    "print(\"________________________________\")"
   ]
  },
  {
   "cell_type": "code",
   "execution_count": null,
   "id": "299ab9ff",
   "metadata": {},
   "outputs": [],
   "source": []
  }
 ],
 "metadata": {
  "kernelspec": {
   "display_name": "Python 3 (ipykernel)",
   "language": "python",
   "name": "python3"
  },
  "language_info": {
   "codemirror_mode": {
    "name": "ipython",
    "version": 3
   },
   "file_extension": ".py",
   "mimetype": "text/x-python",
   "name": "python",
   "nbconvert_exporter": "python",
   "pygments_lexer": "ipython3",
   "version": "3.9.13"
  }
 },
 "nbformat": 4,
 "nbformat_minor": 5
}
